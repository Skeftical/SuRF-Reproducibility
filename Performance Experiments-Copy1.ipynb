{
 "cells": [
  {
   "cell_type": "code",
   "execution_count": 32,
   "metadata": {},
   "outputs": [
    {
     "name": "stdout",
     "output_type": "stream",
     "text": [
      "DEBUG:matplotlib.pyplot:Loaded backend module://ipykernel.pylab.backend_inline version unknown.\n"
     ]
    }
   ],
   "source": [
    "%matplotlib inline\n",
    "import matplotlib.pyplot as plt\n",
    "from mpl_toolkits.mplot3d import Axes3D\n",
    "from mpl_toolkits.mplot3d import proj3d\n",
    "import pandas as pd\n",
    "import numpy as np\n",
    "import seaborn as sns\n",
    "sns.set(color_codes=True)\n",
    "from xgboost import XGBRegressor\n",
    "from sklearn.neural_network import MLPRegressor\n",
    "from matplotlib import patches\n",
    "from sklearn import metrics\n",
    "import os\n",
    "import sys\n",
    "import itertools\n",
    "from pathlib import Path\n",
    "import pickle\n",
    "import logging\n",
    "import time\n",
    "import prim\n",
    "import shutil"
   ]
  },
  {
   "cell_type": "code",
   "execution_count": 18,
   "metadata": {},
   "outputs": [],
   "source": [
    "logging.basicConfig(stream=sys.stdout, level=logging.DEBUG,)\n",
    "logger = logging.getLogger(__name__)"
   ]
  },
  {
   "cell_type": "code",
   "execution_count": null,
   "metadata": {},
   "outputs": [],
   "source": [
    "dimensions = range(1,6)\n",
    "size = 10**np.arange(5,8)"
   ]
  },
  {
   "cell_type": "markdown",
   "metadata": {},
   "source": [
    "<h3>PRIM</h3>"
   ]
  },
  {
   "cell_type": "code",
   "execution_count": null,
   "metadata": {},
   "outputs": [],
   "source": [
    "prim_times = []"
   ]
  },
  {
   "cell_type": "code",
   "execution_count": null,
   "metadata": {
    "scrolled": true
   },
   "outputs": [],
   "source": [
    "dd = None\n",
    "for d in dimensions:\n",
    "    for s in size:\n",
    "        dd = np.random.uniform(size=(s,d+1))\n",
    "        print(dd.shape)\n",
    "        times = []\n",
    "        for i in range(5):\n",
    "            p = prim.Prim(dd[:,:dd.shape[1]-1], dd[:,-1],threshold=0.7,\n",
    "                              threshold_type=\">\")\n",
    "            start = time.time()\n",
    "            p.find_all()\n",
    "            end = (time.time() - start)*1000 #convert to ms\n",
    "            times.append(end)\n",
    "        prim_times.append([d,s,np.mean(times), np.std(times)])\n",
    "        print(end)"
   ]
  },
  {
   "cell_type": "code",
   "execution_count": null,
   "metadata": {},
   "outputs": [],
   "source": [
    "np.array(prim_times)[:,2:]/1000"
   ]
  },
  {
   "cell_type": "code",
   "execution_count": null,
   "metadata": {},
   "outputs": [],
   "source": [
    "np.array(prim_times)[:,-1]/1000"
   ]
  },
  {
   "cell_type": "code",
   "execution_count": null,
   "metadata": {},
   "outputs": [],
   "source": [
    "np.savetxt('output/prim_times',np.array(prim_times),delimiter=',')"
   ]
  },
  {
   "cell_type": "markdown",
   "metadata": {},
   "source": [
    "<h3>Naive</h3>"
   ]
  },
  {
   "cell_type": "code",
   "execution_count": 3,
   "metadata": {},
   "outputs": [],
   "source": [
    "x = np.linspace(0,1,6)\n",
    "naive_numpy_details = []"
   ]
  },
  {
   "cell_type": "code",
   "execution_count": null,
   "metadata": {},
   "outputs": [],
   "source": [
    "dd = None\n",
    "threshold = 3000\n",
    "for d in dimensions:\n",
    "    for s in size:\n",
    "        dd = np.random.uniform(size=(s,d))\n",
    "        print(dd.shape)\n",
    "        #Generate queries\n",
    "        a = [x.tolist()]*2*d\n",
    "        #Define cluster centers and covariance matrix\n",
    "        queries = np.array(list(itertools.product(*a)))\n",
    "        logger.debug(\"Total queries {0}\".format(queries.shape[0]))\n",
    "        executed = 0\n",
    "        start = time.time()\n",
    "        for q in queries:\n",
    "            res = dd[np.all((dd>q[:d]) & (dd<q[:d]+q[d:]),axis=1)].shape[0]\n",
    "            executed+=1\n",
    "            if time.time()-start>threshold:\n",
    "                logger.debug(\"Exceeded {0} seconds threshold\".format(threshold))\n",
    "                break;\n",
    "        end = (time.time() - start)*1000 #convert to ms\n",
    "        naive_numpy_details.append([d,s,end,queries.shape[0],executed])"
   ]
  },
  {
   "cell_type": "code",
   "execution_count": null,
   "metadata": {},
   "outputs": [],
   "source": [
    "naive_numpy_details"
   ]
  },
  {
   "cell_type": "code",
   "execution_count": null,
   "metadata": {},
   "outputs": [],
   "source": [
    "np.savetxt('output/naive_numpy_details',np.array(naive_numpy_details),delimiter=',')"
   ]
  },
  {
   "cell_type": "markdown",
   "metadata": {},
   "source": [
    "<h3>Glowworm using real data</h3>"
   ]
  },
  {
   "cell_type": "code",
   "execution_count": null,
   "metadata": {},
   "outputs": [],
   "source": [
    "from Optimization_Methods.GlowWorm import GlowWorm,GlowWormDensity\n",
    "naive_glowworm_details = []"
   ]
  },
  {
   "cell_type": "code",
   "execution_count": null,
   "metadata": {},
   "outputs": [],
   "source": [
    "global dd\n",
    "dd = None\n",
    "for d in dimensions:\n",
    "    for s in size:\n",
    "        dd = np.random.uniform(size=(s,d))\n",
    "        print(dd.shape)\n",
    "        def objective_aggr_over_real(X):\n",
    "            assert X.shape[1]==2*d and X.shape[0]!=0\n",
    "#             X = X.flatten()\n",
    "            res = dd[np.all((dd>X.flatten()[:d]) & (dd<X.flatten()[:d]+X.flatten()[d:]),axis=1)].shape[0]\n",
    "            ans = np.log(50000 - res) - 3*np.sum(np.log(1+X[:,X.shape[1]//2:]),axis=1)\n",
    "            return ans\n",
    "        #Generate queries\n",
    "        start = time.time()\n",
    "        gw = GlowWorm(objective_aggr_over_real, dimensions=2*d, nt=5, iter_max=100, glowworms=100)\n",
    "        gw.optimize()\n",
    "        end = (time.time() - start)*1000 #convert to ms\n",
    "        naive_glowworm_details.append([d,s,end])"
   ]
  },
  {
   "cell_type": "code",
   "execution_count": null,
   "metadata": {},
   "outputs": [],
   "source": [
    "naive_glowworm_details"
   ]
  },
  {
   "cell_type": "code",
   "execution_count": null,
   "metadata": {},
   "outputs": [],
   "source": [
    "np.savetxt('output/performance/naive_glowworm_details',np.array(naive_glowworm_details),delimiter=',')"
   ]
  },
  {
   "cell_type": "markdown",
   "metadata": {},
   "source": [
    "<h3>Glowworm using approximation</h3>"
   ]
  },
  {
   "cell_type": "code",
   "execution_count": null,
   "metadata": {},
   "outputs": [],
   "source": [
    "with open('models/queries-uniform-1-multi_False-aggr-XGB-RMSE=0.26-R2=0.97.pkl', 'rb') as file:  \n",
    "    m1 = pickle.load(file)\n",
    "with open('models/queries-uniform-2-multi_False-aggr-XGB-RMSE=0.16-R2=0.96.pkl', 'rb') as file:  \n",
    "    m2 = pickle.load(file)\n",
    "with open('models/queries-uniform-3-multi_False-aggr-XGB-RMSE=0.09-R2=0.90.pkl', 'rb') as file:  \n",
    "    m3 = pickle.load(file)\n",
    "with open('models/queries-uniform-4-multi_False-aggr-XGB-RMSE=0.14-R2=0.45.pkl' , 'rb') as file:  \n",
    "    m4 = pickle.load(file)\n",
    "with open('models/queries-uniform-5-multi_False-aggr-XGB-RMSE=0.15-R2=0.39.pkl', 'rb') as file:  \n",
    "    m5 = pickle.load(file)\n",
    "                    "
   ]
  },
  {
   "cell_type": "code",
   "execution_count": null,
   "metadata": {
    "scrolled": true
   },
   "outputs": [],
   "source": [
    "global dd\n",
    "dd = None\n",
    "glowworm_approx_details = []\n",
    "for d in dimensions:\n",
    "    for s in size:\n",
    "        dd = np.random.uniform(size=(s,d))\n",
    "        print(dd.shape)\n",
    "        if d==1:\n",
    "            m=m1\n",
    "        elif d==2:\n",
    "            m=m2\n",
    "        elif d==3:\n",
    "            m=m3\n",
    "        elif d==4:\n",
    "            m=m4\n",
    "        else:\n",
    "            m=m5\n",
    "        def objective_density(X):\n",
    "            res = np.log(m.predict(X) - 1500) - 2.9*np.sum(np.log(1+X[:,X.shape[1]//2:]),axis=1)\n",
    "            res[np.isnan(res)] = -np.inf\n",
    "            return res\n",
    "        #Generate queries\n",
    "        times = []\n",
    "        for i in range(5):\n",
    "            start = time.time()\n",
    "            gw = GlowWorm(objective_density, dimensions=2*d, nt=5, iter_max=100, glowworms=100)\n",
    "            gw.optimize()\n",
    "            end = (time.time() - start)*1000 #convert to ms\n",
    "            times.append(end)\n",
    "        glowworm_approx_details.append([d,s,np.mean(times), np.std(times)])"
   ]
  },
  {
   "cell_type": "code",
   "execution_count": null,
   "metadata": {},
   "outputs": [],
   "source": [
    "glowworm_approx_details"
   ]
  },
  {
   "cell_type": "code",
   "execution_count": null,
   "metadata": {},
   "outputs": [],
   "source": [
    "print(np.array(glowworm_approx_details)[:,2:]/1000)"
   ]
  },
  {
   "cell_type": "code",
   "execution_count": null,
   "metadata": {},
   "outputs": [],
   "source": [
    "np.savetxt('output/performance/glowworm_approx_details',np.array(glowworm_approx_details),delimiter=',')"
   ]
  },
  {
   "cell_type": "code",
   "execution_count": null,
   "metadata": {},
   "outputs": [],
   "source": [
    "plt.rc('text', usetex=True)\n",
    "font_size=22\n",
    "params = {'backend': 'ps',\n",
    "          'text.latex.preamble': ['\\\\usepackage{gensymb}'],\n",
    "          'text.usetex': True,\n",
    "          'font.family': 'serif'\n",
    "}\n",
    "\n",
    "plt.rcParams.update(params)"
   ]
  },
  {
   "cell_type": "code",
   "execution_count": null,
   "metadata": {},
   "outputs": [],
   "source": [
    "prim = np.loadtxt('output/performance/prim_times', delimiter=',')\n",
    "naive = np.loadtxt('output/performance/naive_numpy_details', delimiter=',')\n",
    "naive_glow = np.loadtxt('output/performance/naive_glowworm_details', delimiter=',')\n",
    "glow_approx = np.loadtxt('output/performance/glowworm_approx_details', delimiter=',')"
   ]
  },
  {
   "cell_type": "code",
   "execution_count": null,
   "metadata": {},
   "outputs": [],
   "source": []
  },
  {
   "cell_type": "code",
   "execution_count": null,
   "metadata": {},
   "outputs": [],
   "source": [
    "prim.shape"
   ]
  },
  {
   "cell_type": "code",
   "execution_count": null,
   "metadata": {},
   "outputs": [],
   "source": [
    "eval_df = pd.DataFrame(np.row_stack((prim, naive[:,:3], naive_glow, glow_approx)),columns=['Dimensions', 'Size', 'Time(ms)'])"
   ]
  },
  {
   "cell_type": "code",
   "execution_count": null,
   "metadata": {},
   "outputs": [],
   "source": [
    "eval_df.count()"
   ]
  },
  {
   "cell_type": "code",
   "execution_count": null,
   "metadata": {},
   "outputs": [],
   "source": [
    "fraction = np.ones((60))\n",
    "fraction[15:30] = naive[:,4]/naive[:,3]"
   ]
  },
  {
   "cell_type": "code",
   "execution_count": null,
   "metadata": {},
   "outputs": [],
   "source": [
    "eval_df['fraction'] = fraction"
   ]
  },
  {
   "cell_type": "code",
   "execution_count": null,
   "metadata": {},
   "outputs": [],
   "source": [
    "labels = ['prim' for i in range(15)]+['naive' for i in range(15)]+['naive_glow' for i in range(15)]+['glow_approx' for i in range(15)]"
   ]
  },
  {
   "cell_type": "code",
   "execution_count": null,
   "metadata": {},
   "outputs": [],
   "source": [
    "eval_df['labels'] = labels"
   ]
  },
  {
   "cell_type": "code",
   "execution_count": null,
   "metadata": {},
   "outputs": [],
   "source": [
    "eval_df['Dimensions']=eval_df['Dimensions'].astype(int)"
   ]
  },
  {
   "cell_type": "code",
   "execution_count": null,
   "metadata": {},
   "outputs": [],
   "source": [
    "eval_df['Time(ms)'] = eval_df['Time(ms)'].apply(lambda x : round(x/1000, 2))"
   ]
  },
  {
   "cell_type": "code",
   "execution_count": null,
   "metadata": {},
   "outputs": [],
   "source": [
    "ser = []\n",
    "for i,x in eval_df.iterrows():\n",
    "    ser.append(x['Time(ms)'] if x['fraction']== 1 else ' '.join([str(x['Time(ms)']),str(round(x['fraction'],3))]))"
   ]
  },
  {
   "cell_type": "code",
   "execution_count": null,
   "metadata": {},
   "outputs": [],
   "source": [
    "ser"
   ]
  },
  {
   "cell_type": "code",
   "execution_count": null,
   "metadata": {},
   "outputs": [],
   "source": [
    "eval_df['Time_str'] = ser"
   ]
  },
  {
   "cell_type": "code",
   "execution_count": null,
   "metadata": {},
   "outputs": [],
   "source": [
    "cm = sns.light_palette(\"seagreen\", as_cmap=True)"
   ]
  },
  {
   "cell_type": "code",
   "execution_count": null,
   "metadata": {},
   "outputs": [],
   "source": [
    "print(eval_df.pivot_table(index=['labels', 'Dimensions'],columns=['Size'], values='Time_str', aggfunc=lambda x: x).to_latex())"
   ]
  },
  {
   "cell_type": "code",
   "execution_count": null,
   "metadata": {},
   "outputs": [],
   "source": [
    "sns.pointplot(x='Dimensions',y='Time(ms)',hue='labels',data=eval_df)"
   ]
  },
  {
   "cell_type": "code",
   "execution_count": null,
   "metadata": {},
   "outputs": [],
   "source": []
  }
 ],
 "metadata": {
  "kernelspec": {
   "display_name": "Python [conda env:data_vis]",
   "language": "python",
   "name": "conda-env-data_vis-py"
  },
  "language_info": {
   "codemirror_mode": {
    "name": "ipython",
    "version": 3
   },
   "file_extension": ".py",
   "mimetype": "text/x-python",
   "name": "python",
   "nbconvert_exporter": "python",
   "pygments_lexer": "ipython3",
   "version": "3.5.6"
  }
 },
 "nbformat": 4,
 "nbformat_minor": 2
}
