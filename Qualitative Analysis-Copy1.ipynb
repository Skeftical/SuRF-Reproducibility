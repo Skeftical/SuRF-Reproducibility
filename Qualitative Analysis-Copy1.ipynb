{
 "cells": [
  {
   "cell_type": "code",
   "execution_count": 1,
   "metadata": {},
   "outputs": [],
   "source": [
    "%matplotlib inline\n",
    "import matplotlib.pyplot as plt\n",
    "from mpl_toolkits.mplot3d import Axes3D\n",
    "from mpl_toolkits.mplot3d import proj3d\n",
    "import pandas as pd\n",
    "import numpy as np\n",
    "import seaborn as sns\n",
    "sns.set(color_codes=True)\n",
    "from xgboost import XGBRegressor\n",
    "from sklearn.neural_network import MLPRegressor\n",
    "from sklearn.preprocessing import StandardScaler\n",
    "from sklearn.model_selection import train_test_split\n",
    "\n",
    "import prim\n",
    "from matplotlib import patches\n",
    "from sklearn import metrics"
   ]
  },
  {
   "cell_type": "code",
   "execution_count": 2,
   "metadata": {},
   "outputs": [],
   "source": [
    "%config InlineBackend.print_figure_kwargs = {'bbox_inches':None}\n",
    "np.random.seed(35)"
   ]
  },
  {
   "cell_type": "code",
   "execution_count": 3,
   "metadata": {},
   "outputs": [
    {
     "name": "stderr",
     "output_type": "stream",
     "text": [
      "/home/fotis/anaconda3/envs/data_vis/lib/python3.5/site-packages/numpy/lib/arraysetops.py:568: FutureWarning: elementwise comparison failed; returning scalar instead, but in the future will perform elementwise comparison\n",
      "  mask |= (ar1 == a)\n"
     ]
    }
   ],
   "source": [
    "df = pd.read_csv('/home/fotis/DATA/regions/Activity recognition exp/Watch_accelerometer.csv', header=0, index_col=0)"
   ]
  },
  {
   "cell_type": "code",
   "execution_count": 4,
   "metadata": {},
   "outputs": [
    {
     "data": {
      "text/html": [
       "<div>\n",
       "<style scoped>\n",
       "    .dataframe tbody tr th:only-of-type {\n",
       "        vertical-align: middle;\n",
       "    }\n",
       "\n",
       "    .dataframe tbody tr th {\n",
       "        vertical-align: top;\n",
       "    }\n",
       "\n",
       "    .dataframe thead th {\n",
       "        text-align: right;\n",
       "    }\n",
       "</style>\n",
       "<table border=\"1\" class=\"dataframe\">\n",
       "  <thead>\n",
       "    <tr style=\"text-align: right;\">\n",
       "      <th></th>\n",
       "      <th>Arrival_Time</th>\n",
       "      <th>Creation_Time</th>\n",
       "      <th>x</th>\n",
       "      <th>y</th>\n",
       "      <th>z</th>\n",
       "      <th>User</th>\n",
       "      <th>Model</th>\n",
       "      <th>Device</th>\n",
       "      <th>gt</th>\n",
       "    </tr>\n",
       "    <tr>\n",
       "      <th>Index</th>\n",
       "      <th></th>\n",
       "      <th></th>\n",
       "      <th></th>\n",
       "      <th></th>\n",
       "      <th></th>\n",
       "      <th></th>\n",
       "      <th></th>\n",
       "      <th></th>\n",
       "      <th></th>\n",
       "    </tr>\n",
       "  </thead>\n",
       "  <tbody>\n",
       "    <tr>\n",
       "      <td>0</td>\n",
       "      <td>1424696638740</td>\n",
       "      <td>27920678471000</td>\n",
       "      <td>-0.565032</td>\n",
       "      <td>-9.572019</td>\n",
       "      <td>-0.614113</td>\n",
       "      <td>a</td>\n",
       "      <td>gear</td>\n",
       "      <td>gear_1</td>\n",
       "      <td>stand</td>\n",
       "    </tr>\n",
       "    <tr>\n",
       "      <td>1</td>\n",
       "      <td>1424696638740</td>\n",
       "      <td>27920681910000</td>\n",
       "      <td>-0.832584</td>\n",
       "      <td>-9.713276</td>\n",
       "      <td>-0.606930</td>\n",
       "      <td>a</td>\n",
       "      <td>gear</td>\n",
       "      <td>gear_1</td>\n",
       "      <td>stand</td>\n",
       "    </tr>\n",
       "    <tr>\n",
       "      <td>2</td>\n",
       "      <td>1424696638740</td>\n",
       "      <td>27920692014000</td>\n",
       "      <td>-1.018134</td>\n",
       "      <td>-9.935339</td>\n",
       "      <td>-0.544082</td>\n",
       "      <td>a</td>\n",
       "      <td>gear</td>\n",
       "      <td>gear_1</td>\n",
       "      <td>stand</td>\n",
       "    </tr>\n",
       "    <tr>\n",
       "      <td>3</td>\n",
       "      <td>1424696638741</td>\n",
       "      <td>27920701983000</td>\n",
       "      <td>-1.222838</td>\n",
       "      <td>-10.142437</td>\n",
       "      <td>-0.566229</td>\n",
       "      <td>a</td>\n",
       "      <td>gear</td>\n",
       "      <td>gear_1</td>\n",
       "      <td>stand</td>\n",
       "    </tr>\n",
       "    <tr>\n",
       "      <td>4</td>\n",
       "      <td>1424696638741</td>\n",
       "      <td>27920711906000</td>\n",
       "      <td>-1.577180</td>\n",
       "      <td>-10.480618</td>\n",
       "      <td>-0.402824</td>\n",
       "      <td>a</td>\n",
       "      <td>gear</td>\n",
       "      <td>gear_1</td>\n",
       "      <td>stand</td>\n",
       "    </tr>\n",
       "  </tbody>\n",
       "</table>\n",
       "</div>"
      ],
      "text/plain": [
       "        Arrival_Time   Creation_Time         x          y         z User  \\\n",
       "Index                                                                      \n",
       "0      1424696638740  27920678471000 -0.565032  -9.572019 -0.614113    a   \n",
       "1      1424696638740  27920681910000 -0.832584  -9.713276 -0.606930    a   \n",
       "2      1424696638740  27920692014000 -1.018134  -9.935339 -0.544082    a   \n",
       "3      1424696638741  27920701983000 -1.222838 -10.142437 -0.566229    a   \n",
       "4      1424696638741  27920711906000 -1.577180 -10.480618 -0.402824    a   \n",
       "\n",
       "      Model  Device     gt  \n",
       "Index                       \n",
       "0      gear  gear_1  stand  \n",
       "1      gear  gear_1  stand  \n",
       "2      gear  gear_1  stand  \n",
       "3      gear  gear_1  stand  \n",
       "4      gear  gear_1  stand  "
      ]
     },
     "execution_count": 4,
     "metadata": {},
     "output_type": "execute_result"
    }
   ],
   "source": [
    "df.head(5)"
   ]
  },
  {
   "cell_type": "code",
   "execution_count": 5,
   "metadata": {},
   "outputs": [
    {
     "data": {
      "text/plain": [
       "bike          635530\n",
       "walk          549761\n",
       "stairsdown    486376\n",
       "stairsup      473754\n",
       "stand         451189\n",
       "sit           423995\n",
       "Name: gt, dtype: int64"
      ]
     },
     "execution_count": 5,
     "metadata": {},
     "output_type": "execute_result"
    }
   ],
   "source": [
    "df['gt'].value_counts()"
   ]
  },
  {
   "cell_type": "code",
   "execution_count": 6,
   "metadata": {},
   "outputs": [
    {
     "data": {
      "text/html": [
       "<div>\n",
       "<style scoped>\n",
       "    .dataframe tbody tr th:only-of-type {\n",
       "        vertical-align: middle;\n",
       "    }\n",
       "\n",
       "    .dataframe tbody tr th {\n",
       "        vertical-align: top;\n",
       "    }\n",
       "\n",
       "    .dataframe thead th {\n",
       "        text-align: right;\n",
       "    }\n",
       "</style>\n",
       "<table border=\"1\" class=\"dataframe\">\n",
       "  <thead>\n",
       "    <tr style=\"text-align: right;\">\n",
       "      <th></th>\n",
       "      <th>x</th>\n",
       "      <th>y</th>\n",
       "      <th>z</th>\n",
       "    </tr>\n",
       "    <tr>\n",
       "      <th>gt</th>\n",
       "      <th></th>\n",
       "      <th></th>\n",
       "      <th></th>\n",
       "    </tr>\n",
       "  </thead>\n",
       "  <tbody>\n",
       "    <tr>\n",
       "      <td>bike</td>\n",
       "      <td>-1.803119</td>\n",
       "      <td>-1.947162</td>\n",
       "      <td>4.590256</td>\n",
       "    </tr>\n",
       "    <tr>\n",
       "      <td>sit</td>\n",
       "      <td>0.324850</td>\n",
       "      <td>-4.766640</td>\n",
       "      <td>3.917400</td>\n",
       "    </tr>\n",
       "    <tr>\n",
       "      <td>stairsdown</td>\n",
       "      <td>-0.607346</td>\n",
       "      <td>-1.976259</td>\n",
       "      <td>0.816490</td>\n",
       "    </tr>\n",
       "    <tr>\n",
       "      <td>stairsup</td>\n",
       "      <td>-0.024106</td>\n",
       "      <td>-2.113122</td>\n",
       "      <td>0.868505</td>\n",
       "    </tr>\n",
       "    <tr>\n",
       "      <td>stand</td>\n",
       "      <td>-0.357810</td>\n",
       "      <td>-2.287680</td>\n",
       "      <td>1.118905</td>\n",
       "    </tr>\n",
       "    <tr>\n",
       "      <td>walk</td>\n",
       "      <td>-0.317929</td>\n",
       "      <td>-2.276931</td>\n",
       "      <td>0.707096</td>\n",
       "    </tr>\n",
       "  </tbody>\n",
       "</table>\n",
       "</div>"
      ],
      "text/plain": [
       "                   x         y         z\n",
       "gt                                      \n",
       "bike       -1.803119 -1.947162  4.590256\n",
       "sit         0.324850 -4.766640  3.917400\n",
       "stairsdown -0.607346 -1.976259  0.816490\n",
       "stairsup   -0.024106 -2.113122  0.868505\n",
       "stand      -0.357810 -2.287680  1.118905\n",
       "walk       -0.317929 -2.276931  0.707096"
      ]
     },
     "execution_count": 6,
     "metadata": {},
     "output_type": "execute_result"
    }
   ],
   "source": [
    "df.groupby(['gt'])[['x','y','z']].mean()"
   ]
  },
  {
   "cell_type": "code",
   "execution_count": 7,
   "metadata": {},
   "outputs": [
    {
     "data": {
      "text/plain": [
       "<matplotlib.axes._subplots.AxesSubplot at 0x7f8cd40bc828>"
      ]
     },
     "execution_count": 7,
     "metadata": {},
     "output_type": "execute_result"
    },
    {
     "data": {
      "image/png": "[encoded data removed]",
      "text/plain": [
       "<Figure size 432x288 with 3 Axes>"
      ]
     },
     "metadata": {
      "needs_background": "light"
     },
     "output_type": "display_data"
    }
   ],
   "source": [
    "fig = plt.figure()\n",
    "ax = fig.add_subplot(131)\n",
    "sns.boxplot(df[['x']],ax=ax)\n",
    "ax = fig.add_subplot(132)\n",
    "sns.boxplot(df[['y']],ax=ax)\n",
    "ax = fig.add_subplot(133)\n",
    "sns.boxplot(df[['z']],ax=ax)"
   ]
  },
  {
   "cell_type": "code",
   "execution_count": 8,
   "metadata": {},
   "outputs": [],
   "source": [
    "df['gt']=df['gt'].astype('category')"
   ]
  },
  {
   "cell_type": "code",
   "execution_count": 9,
   "metadata": {},
   "outputs": [],
   "source": [
    "df['int_enc'] = df['gt'].cat.codes"
   ]
  },
  {
   "cell_type": "code",
   "execution_count": 10,
   "metadata": {},
   "outputs": [],
   "source": [
    "X = df[['x','y','z']].dropna().values\n",
    "y = df['int_enc'].apply(lambda x: 1 if x==4 else 0)"
   ]
  },
  {
   "cell_type": "code",
   "execution_count": 11,
   "metadata": {},
   "outputs": [
    {
     "data": {
      "text/plain": [
       " 0    635530\n",
       " 5    549761\n",
       "-1    520357\n",
       " 2    486376\n",
       " 3    473754\n",
       " 4    451189\n",
       " 1    423995\n",
       "Name: int_enc, dtype: int64"
      ]
     },
     "execution_count": 11,
     "metadata": {},
     "output_type": "execute_result"
    }
   ],
   "source": [
    "df['int_enc'].value_counts()"
   ]
  },
  {
   "cell_type": "code",
   "execution_count": 12,
   "metadata": {},
   "outputs": [],
   "source": [
    "min_ = np.min(X, axis=0)\n",
    "max_ = np.max(X, axis=0)\n",
    "X = (X-min_) / (max_-min_) "
   ]
  },
  {
   "cell_type": "code",
   "execution_count": 13,
   "metadata": {},
   "outputs": [],
   "source": [
    "data = np.column_stack((X,y))"
   ]
  },
  {
   "cell_type": "code",
   "execution_count": 14,
   "metadata": {},
   "outputs": [],
   "source": [
    "x = np.linspace(0.1,0.9,7)\n",
    "xx,yy,zz = np.meshgrid(x,x,x)"
   ]
  },
  {
   "cell_type": "code",
   "execution_count": 16,
   "metadata": {},
   "outputs": [],
   "source": [
    "cov = np.identity(3)*0.001\n",
    "cluster_centers = np.column_stack((xx.ravel(),yy.ravel(),zz.ravel()))\n",
    "query_centers = []\n",
    "#Generate queries over cluster centers\n",
    "for c in cluster_centers:\n",
    "    queries = np.random.multivariate_normal(np.array(c), cov, size=40)\n",
    "    query_centers.append(queries)\n",
    "query_centers = np.array(query_centers).reshape(-1,3)"
   ]
  },
  {
   "cell_type": "code",
   "execution_count": 17,
   "metadata": {},
   "outputs": [],
   "source": [
    "ranges = np.random.uniform(low=0.005**(1/3), high=0.25**(1/3), size=(query_centers.shape[0], 3))\n",
    "# ranges = np.ones((query_centers.shape[0], 3))*ranges"
   ]
  },
  {
   "cell_type": "code",
   "execution_count": 18,
   "metadata": {},
   "outputs": [],
   "source": [
    "from codebase.query_generation import generate_boolean_vector"
   ]
  },
  {
   "cell_type": "code",
   "execution_count": 19,
   "metadata": {},
   "outputs": [],
   "source": [
    "queries = []\n",
    "empty = 0\n",
    "for q,r in zip(query_centers,ranges):\n",
    "        b = generate_boolean_vector(data,q,r,3)\n",
    "        res = data[b]\n",
    "        if res.shape[0]==0:\n",
    "            empty+=1\n",
    "#             print(q,r)\n",
    "#             break;\n",
    "        ans = float(np.mean(res[:,-1])) if res.shape[0]!=0 else 0\n",
    "        qt = q.tolist()\n",
    "        qt += r.tolist()\n",
    "        qt.append(ans)\n",
    "        queries.append(qt)"
   ]
  },
  {
   "cell_type": "code",
   "execution_count": 20,
   "metadata": {},
   "outputs": [],
   "source": [
    "qs = np.array(queries).reshape(-1, 7)"
   ]
  },
  {
   "cell_type": "code",
   "execution_count": 21,
   "metadata": {},
   "outputs": [
    {
     "data": {
      "text/plain": [
       "<matplotlib.axes._subplots.AxesSubplot at 0x7f8c84861320>"
      ]
     },
     "execution_count": 21,
     "metadata": {},
     "output_type": "execute_result"
    },
    {
     "name": "stdout",
     "output_type": "stream",
     "text": [
      "DEBUG:matplotlib.axes._base:update_title_pos\n",
      "DEBUG:matplotlib.axes._base:update_title_pos\n"
     ]
    },
    {
     "data": {
      "image/png": "[encoded data removed]",
      "text/plain": [
       "<Figure size 432x288 with 1 Axes>"
      ]
     },
     "metadata": {
      "needs_background": "light"
     },
     "output_type": "display_data"
    }
   ],
   "source": [
    "sns.boxplot(qs[:,-1])"
   ]
  },
  {
   "cell_type": "code",
   "execution_count": 34,
   "metadata": {},
   "outputs": [],
   "source": [
    "from scipy.stats import gaussian_kde"
   ]
  },
  {
   "cell_type": "code",
   "execution_count": 35,
   "metadata": {},
   "outputs": [
    {
     "name": "stdout",
     "output_type": "stream",
     "text": [
      "1\n",
      "13720\n"
     ]
    }
   ],
   "source": [
    "empirical_cdf = gaussian_kde(qs[:,-1],)\n",
    "print(empirical_cdf.d)\n",
    "print(empirical_cdf.n)\n",
    "empirical_cdf.set_bandwidth(0.001)"
   ]
  },
  {
   "cell_type": "code",
   "execution_count": 38,
   "metadata": {},
   "outputs": [],
   "source": [
    "outliers = qs[qs[:,-1]>0.1]\n",
    "normal = qs[qs[:,-1]<0.1]"
   ]
  },
  {
   "cell_type": "code",
   "execution_count": 40,
   "metadata": {},
   "outputs": [],
   "source": [
    "X_train, X_test, y_train, y_test = train_test_split(\n",
    "     qs[:,:qs.shape[1]-1], qs[:,-1], test_size=0.2, random_state=0)"
   ]
  },
  {
   "cell_type": "code",
   "execution_count": 41,
   "metadata": {},
   "outputs": [
    {
     "name": "stdout",
     "output_type": "stream",
     "text": [
      "[11:49:14] WARNING: /workspace/src/objective/regression_obj.cu:152: reg:linear is now deprecated in favor of reg:squarederror.\n",
      "0.008770229273344358\n",
      "0.8942883139567607\n",
      "0.02103984021705604\n"
     ]
    }
   ],
   "source": [
    "xgb1 = XGBRegressor(max_depth=8,n_estimators=150,reg_lambda=0.5)\n",
    "xgb1.fit(X_train, y_train)\n",
    "print(np.sqrt(metrics.mean_squared_error(y_train, xgb1.predict(X_train))))\n",
    "r2 = xgb1.score(X_test, y_test)\n",
    "rmse = np.sqrt(metrics.mean_squared_error(y_test, xgb1.predict(X_test)))\n",
    "print(r2)\n",
    "print(rmse)"
   ]
  },
  {
   "cell_type": "code",
   "execution_count": 42,
   "metadata": {},
   "outputs": [],
   "source": [
    "import copy\n",
    "from Optimization_Methods.GlowWorm import GlowWorm"
   ]
  },
  {
   "cell_type": "code",
   "execution_count": 43,
   "metadata": {},
   "outputs": [],
   "source": [
    "yreq = 0.3"
   ]
  },
  {
   "cell_type": "code",
   "execution_count": 44,
   "metadata": {
    "scrolled": true
   },
   "outputs": [
    {
     "name": "stderr",
     "output_type": "stream",
     "text": [
      "/home/fotis/.local/lib/python3.5/site-packages/ipykernel/__main__.py:8: RuntimeWarning: invalid value encountered in log\n"
     ]
    }
   ],
   "source": [
    "def objective_aggr_over_real(X):\n",
    "    b = generate_boolean_vector(data,X.flatten()[:3],X.flatten()[3:],3)\n",
    "    res_ = np.mean(data[b,-1])\n",
    "    ans = np.log(res_-yreq) - 3*np.sum(np.log(1+X.flatten()[3:]))\n",
    "    return ans if not np.isnan(ans) else res_-yreq\n",
    "def objective_aggr(X):\n",
    "    assert X.shape[1]==6\n",
    "    res = np.log(xgb1.predict(X) - yreq) - 3*np.sum(np.log(1+X[:,X.shape[1]//2:]),axis=1)\n",
    "    res[np.isnan(res)] = xgb1.predict(X[np.isnan(res)]) - yreq\n",
    "    return res\n",
    "gw = GlowWorm(objective_aggr, dimensions=6, nt=5, iter_max=150, glowworms=150, r0=0.38)\n",
    "# gw_ad = GlowWormDensity(objective_aggr, dimensions=6, nt=5, iter_max=100, glowworms=100, r0=0.4, probx=probability_of_data)\n",
    "initial = copy.copy(gw.X)\n",
    "# initial_ad = copy.copy(gw_ad.X)\n",
    "pos = gw.optimize()\n",
    "# pos_ad = gw_ad.optimize()"
   ]
  },
  {
   "cell_type": "code",
   "execution_count": 46,
   "metadata": {},
   "outputs": [
    {
     "name": "stderr",
     "output_type": "stream",
     "text": [
      "/home/fotis/.local/lib/python3.5/site-packages/ipykernel/__main__.py:8: RuntimeWarning: invalid value encountered in log\n"
     ]
    }
   ],
   "source": [
    "w_pos = pos[np.argsort(-objective_aggr(pos))][:10]\n",
    "# list(zip(w_pos, objective_aggr(w_pos), xgb1.predict(w_pos)))"
   ]
  },
  {
   "cell_type": "code",
   "execution_count": 48,
   "metadata": {
    "scrolled": false
   },
   "outputs": [
    {
     "name": "stderr",
     "output_type": "stream",
     "text": [
      "/home/fotis/.local/lib/python3.5/site-packages/ipykernel/__main__.py:8: RuntimeWarning: invalid value encountered in log\n"
     ]
    },
    {
     "name": "stdout",
     "output_type": "stream",
     "text": [
      "[0.71838147 0.4805733  0.16353285 0.65320939 0.47181494 0.47266493]\n",
      "True Result 0.3014976353126642\t Prediction=0.2430325448513031\tJ(x,l)=-0.056967467069625854\n",
      "Is it over y_req ? : True\n"
     ]
    },
    {
     "name": "stderr",
     "output_type": "stream",
     "text": [
      "/home/fotis/anaconda3/envs/data_vis/lib/python3.5/site-packages/numpy/core/fromnumeric.py:3257: RuntimeWarning: Mean of empty slice.\n",
      "  out=out, **kwargs)\n",
      "/home/fotis/anaconda3/envs/data_vis/lib/python3.5/site-packages/numpy/core/_methods.py:161: RuntimeWarning: invalid value encountered in double_scalars\n",
      "  ret = ret.dtype.type(ret / rcount)\n"
     ]
    }
   ],
   "source": [
    "for box3d,obj,yhat in zip(pos, objective_aggr(pos), xgb1.predict(pos)):\n",
    "#     print(box3d)\n",
    "    b = generate_boolean_vector(data,box3d[:3],box3d[3:],3)\n",
    "    res = data[b]\n",
    "    ytrue = np.mean(res[:,-1])\n",
    "    if not ytrue>yreq:\n",
    "        continue;\n",
    "    print(box3d)\n",
    "    print(\"True Result {0}\\t Prediction={1}\\tJ(x,l)={2}\".format(ytrue,yhat,obj))\n",
    "    print(\"Is it over y_req ? : {0}\".format(ytrue>yreq))\n",
    "#     break;"
   ]
  }
 ],
 "metadata": {
  "kernelspec": {
   "display_name": "Python [conda env:data_vis]",
   "language": "python",
   "name": "conda-env-data_vis-py"
  },
  "language_info": {
   "codemirror_mode": {
    "name": "ipython",
    "version": 3
   },
   "file_extension": ".py",
   "mimetype": "text/x-python",
   "name": "python",
   "nbconvert_exporter": "python",
   "pygments_lexer": "ipython3",
   "version": "3.5.6"
  }
 },
 "nbformat": 4,
 "nbformat_minor": 2
}
