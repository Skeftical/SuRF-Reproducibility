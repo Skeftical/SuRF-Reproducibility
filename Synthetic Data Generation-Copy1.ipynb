{
 "cells": [
  {
   "cell_type": "code",
   "execution_count": 8,
   "metadata": {},
   "outputs": [],
   "source": [
    "%matplotlib inline\n",
    "import matplotlib.pyplot as plt\n",
    "import pandas as pd\n",
    "import numpy as np\n",
    "import seaborn as sns"
   ]
  },
  {
   "cell_type": "code",
   "execution_count": 9,
   "metadata": {},
   "outputs": [],
   "source": [
    "# #Given uniform data space\n",
    "# data_space = np.random.uniform(size=(5000,2))\n",
    "# # smaller_data_space = np.random.uniform(low=0.6,high=0.9,size=(100,2))\n",
    "# y = np.random.normal(size=5000)\n",
    "# data_space = np.column_stack((data_space, y))\n",
    "# sub_space_idx = (data_space[:,0]>0.6) & (data_space[:,0]<0.9) & (data_space[:,1]>0.6) & (data_space[:,1]<0.9)\n",
    "# data_space[sub_space_idx,2] = np.random.normal(loc=14,size=data_space[sub_space_idx].shape[0])"
   ]
  },
  {
   "cell_type": "code",
   "execution_count": 10,
   "metadata": {},
   "outputs": [],
   "source": [
    "SIZE = 5000\n",
    "DIMENSIONS = 3\n",
    "MULTI_MODAL = True\n",
    "SPREAD = 0.3 # (0,1) denoting how spread the region should be\n",
    "DEVIATION = 5 # Mean of other distribution\n",
    "\n",
    "def density_generator(support=0.5, DIMENSIONS=3, MULTI_MODAL=False, SIZE=5000):\n",
    "    a = 0.6\n",
    "    b = a+SPREAD\n",
    "    data_space = np.random.uniform(size=(SIZE,DIMENSIONS))\n",
    "    if not MULTI_MODAL:\n",
    "        smaller_data_space = np.random.uniform(low=a,high=b,size=(int(SIZE*support),DIMENSIONS))\n",
    "        data_space = np.row_stack((data_space, smaller_data_space))\n",
    "    else:\n",
    "        small_spaces = [\n",
    "            np.random.uniform(low=0,high=0.2,size=(int(SIZE*support),DIMENSIONS)),\n",
    "            np.random.uniform(low=0.3,high=0.5,size=(int(SIZE*support),DIMENSIONS)),\n",
    "            np.random.uniform(low=0.6,high=0.8,size=(int(SIZE*support),DIMENSIONS))\n",
    "        ]\n",
    "        data_space = np.row_stack((data_space, small_spaces[0], small_spaces[1], small_spaces[2]))\n",
    "        \n",
    "    return data_space"
   ]
  },
  {
   "cell_type": "code",
   "execution_count": 11,
   "metadata": {},
   "outputs": [],
   "source": [
    "def region_generator(DIMENSIONS, SIZE=5000, MULTI_MODAL=False):\n",
    "    #Given uniform data space\n",
    "    data_space = np.random.uniform(size=(SIZE,DIMENSIONS))\n",
    "    # smaller_data_space = np.random.uniform(low=0.6,high=0.9,size=(100,2))\n",
    "    y = np.random.normal(size=SIZE)\n",
    "    a = 0.6\n",
    "    b = a+SPREAD\n",
    "    if not MULTI_MODAL:\n",
    "        sub_space_idx = (np.sum(np.where((data_space>0.6) & (data_space<0.9), 1,0),axis=1)==DIMENSIONS)\n",
    "        data_space = np.column_stack((data_space, y))\n",
    "        print(sub_space_idx.sum())\n",
    "        data_space[sub_space_idx,DIMENSIONS] = np.random.normal(loc=DEVIATION,size=data_space[sub_space_idx].shape[0])\n",
    "    else:\n",
    "        sub_space_idx_1 = (np.sum(np.where((data_space>0) & (data_space<0.2), 1,0),axis=1)==DIMENSIONS)\n",
    "        sub_space_idx_2 = (np.sum(np.where((data_space>0.3) & (data_space<0.5), 1,0),axis=1)==DIMENSIONS)\n",
    "        sub_space_idx_3 = (np.sum(np.where((data_space>0.6) & (data_space<0.8), 1,0),axis=1)==DIMENSIONS)\n",
    "        data_space = np.column_stack((data_space, y))        \n",
    "        data_space[sub_space_idx_1,DIMENSIONS] = np.random.normal(loc=DEVIATION,size=data_space[sub_space_idx_1].shape[0])\n",
    "        data_space[sub_space_idx_2,DIMENSIONS] = np.random.normal(loc=DEVIATION,size=data_space[sub_space_idx_2].shape[0])\n",
    "        data_space[sub_space_idx_3,DIMENSIONS] = np.random.normal(loc=DEVIATION,size=data_space[sub_space_idx_3].shape[0])\n",
    "        \n",
    "\n",
    "    return data_space"
   ]
  },
  {
   "cell_type": "code",
   "execution_count": 12,
   "metadata": {},
   "outputs": [],
   "source": [
    "# d = region_generator(1, MULTI_MODAL=True)"
   ]
  },
  {
   "cell_type": "code",
   "execution_count": 13,
   "metadata": {},
   "outputs": [],
   "source": [
    "#Dataset Generation\n",
    "dimensions = [1, 2, 3, 4, 5]\n",
    "multi = [True, False]\n",
    "count_or_agg = ['density', 'aggr']\n",
    "import itertools"
   ]
  },
  {
   "cell_type": "code",
   "execution_count": 14,
   "metadata": {},
   "outputs": [
    {
     "name": "stdout",
     "output_type": "stream",
     "text": [
      "1482\n",
      "442\n",
      "121\n",
      "30\n",
      "17\n"
     ]
    }
   ],
   "source": [
    "for d, m, c in itertools.product(*[dimensions, multi, count_or_agg]):\n",
    "    if c=='density':\n",
    "        data = density_generator(DIMENSIONS=d, MULTI_MODAL=m)\n",
    "        np.savetxt(\"input/data_{0}_dimensions={1}_multi_{2}\".format(c, d, m),data, delimiter=',')\n",
    "    elif c=='aggr':\n",
    "        data = region_generator(DIMENSIONS=d, MULTI_MODAL=m)\n",
    "        np.savetxt(\"input/data_{0}_dimensions={1}_multi_{2}\".format(c, d, m),data, delimiter=',')"
   ]
  },
  {
   "cell_type": "code",
   "execution_count": null,
   "metadata": {},
   "outputs": [],
   "source": []
  }
 ],
 "metadata": {
  "kernelspec": {
   "display_name": "Python [default]",
   "language": "python",
   "name": "python3"
  },
  "language_info": {
   "codemirror_mode": {
    "name": "ipython",
    "version": 3
   },
   "file_extension": ".py",
   "mimetype": "text/x-python",
   "name": "python",
   "nbconvert_exporter": "python",
   "pygments_lexer": "ipython3",
   "version": "3.5.6"
  }
 },
 "nbformat": 4,
 "nbformat_minor": 2
}
